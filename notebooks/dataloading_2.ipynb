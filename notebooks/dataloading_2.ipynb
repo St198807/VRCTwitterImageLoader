{
 "cells": [
  {
   "cell_type": "code",
   "execution_count": 31,
   "metadata": {},
   "outputs": [],
   "source": [
    "import pandas as pd"
   ]
  },
  {
   "cell_type": "code",
   "execution_count": 32,
   "metadata": {},
   "outputs": [],
   "source": [
    "file_path = \"../src/VRCTwitterImageLoader/data/urls_orig_date.csv\"\n",
    "image_num = 10"
   ]
  },
  {
   "cell_type": "code",
   "execution_count": 66,
   "metadata": {},
   "outputs": [],
   "source": [
    "# df = pd.read_csv(file_path, usecols=[0], header=None)\n",
    "df = pd.read_csv(file_path)\n",
    "df_urls = df.iloc[:, 0].dropna().unique()\n",
    "df_selected_urls = (\n",
    "    pd.DataFrame(df_urls).sample(n=image_num, replace=False).sort_index(ascending=True)\n",
    ")\n",
    "list_selected_urls = df_selected_urls[0].tolist()\n",
    "\n",
    "# # URL失効時のログ確認用\n",
    "# print(selected_urls)"
   ]
  },
  {
   "cell_type": "code",
   "execution_count": 67,
   "metadata": {},
   "outputs": [
    {
     "data": {
      "text/html": [
       "<div>\n",
       "<style scoped>\n",
       "    .dataframe tbody tr th:only-of-type {\n",
       "        vertical-align: middle;\n",
       "    }\n",
       "\n",
       "    .dataframe tbody tr th {\n",
       "        vertical-align: top;\n",
       "    }\n",
       "\n",
       "    .dataframe thead th {\n",
       "        text-align: right;\n",
       "    }\n",
       "</style>\n",
       "<table border=\"1\" class=\"dataframe\">\n",
       "  <thead>\n",
       "    <tr style=\"text-align: right;\">\n",
       "      <th></th>\n",
       "      <th>0</th>\n",
       "    </tr>\n",
       "  </thead>\n",
       "  <tbody>\n",
       "    <tr>\n",
       "      <th>6</th>\n",
       "      <td>https://twitter.com/H5T42/status/1771366895524...</td>\n",
       "    </tr>\n",
       "    <tr>\n",
       "      <th>45</th>\n",
       "      <td>https://twitter.com/H5T42/status/1730781562210...</td>\n",
       "    </tr>\n",
       "    <tr>\n",
       "      <th>54</th>\n",
       "      <td>https://twitter.com/H5T42/status/1721082435012...</td>\n",
       "    </tr>\n",
       "    <tr>\n",
       "      <th>155</th>\n",
       "      <td>https://twitter.com/H5T42/status/1604403631972...</td>\n",
       "    </tr>\n",
       "    <tr>\n",
       "      <th>188</th>\n",
       "      <td>https://twitter.com/H5T42/status/1567079839009...</td>\n",
       "    </tr>\n",
       "    <tr>\n",
       "      <th>197</th>\n",
       "      <td>https://twitter.com/H5T42/status/1556958568561...</td>\n",
       "    </tr>\n",
       "    <tr>\n",
       "      <th>210</th>\n",
       "      <td>https://twitter.com/H5T42/status/1542795179714...</td>\n",
       "    </tr>\n",
       "    <tr>\n",
       "      <th>254</th>\n",
       "      <td>https://twitter.com/rin_vr/status/149650974242...</td>\n",
       "    </tr>\n",
       "    <tr>\n",
       "      <th>272</th>\n",
       "      <td>https://twitter.com/H5T42/status/1479025478665...</td>\n",
       "    </tr>\n",
       "    <tr>\n",
       "      <th>281</th>\n",
       "      <td>https://twitter.com/Taro3_taro/status/14606243...</td>\n",
       "    </tr>\n",
       "  </tbody>\n",
       "</table>\n",
       "</div>"
      ],
      "text/plain": [
       "                                                     0\n",
       "6    https://twitter.com/H5T42/status/1771366895524...\n",
       "45   https://twitter.com/H5T42/status/1730781562210...\n",
       "54   https://twitter.com/H5T42/status/1721082435012...\n",
       "155  https://twitter.com/H5T42/status/1604403631972...\n",
       "188  https://twitter.com/H5T42/status/1567079839009...\n",
       "197  https://twitter.com/H5T42/status/1556958568561...\n",
       "210  https://twitter.com/H5T42/status/1542795179714...\n",
       "254  https://twitter.com/rin_vr/status/149650974242...\n",
       "272  https://twitter.com/H5T42/status/1479025478665...\n",
       "281  https://twitter.com/Taro3_taro/status/14606243..."
      ]
     },
     "execution_count": 67,
     "metadata": {},
     "output_type": "execute_result"
    }
   ],
   "source": [
    "df_selected_urls"
   ]
  },
  {
   "cell_type": "code",
   "execution_count": 68,
   "metadata": {},
   "outputs": [
    {
     "data": {
      "text/plain": [
       "['https://twitter.com/H5T42/status/1771366895524147439',\n",
       " 'https://twitter.com/H5T42/status/1730781562210554311',\n",
       " 'https://twitter.com/H5T42/status/1721082435012861976',\n",
       " 'https://twitter.com/H5T42/status/1604403631972765696',\n",
       " 'https://twitter.com/H5T42/status/1567079839009763328',\n",
       " 'https://twitter.com/H5T42/status/1556958568561070080',\n",
       " 'https://twitter.com/H5T42/status/1542795179714699267',\n",
       " 'https://twitter.com/rin_vr/status/1496509742424162305',\n",
       " 'https://twitter.com/H5T42/status/1479025478665379842',\n",
       " 'https://twitter.com/Taro3_taro/status/1460624356153835524']"
      ]
     },
     "execution_count": 68,
     "metadata": {},
     "output_type": "execute_result"
    }
   ],
   "source": [
    "list_selected_urls"
   ]
  },
  {
   "cell_type": "code",
   "execution_count": 69,
   "metadata": {},
   "outputs": [
    {
     "data": {
      "text/plain": [
       "list"
      ]
     },
     "execution_count": 69,
     "metadata": {},
     "output_type": "execute_result"
    }
   ],
   "source": [
    "type(list_selected_urls)"
   ]
  },
  {
   "cell_type": "code",
   "execution_count": null,
   "metadata": {},
   "outputs": [],
   "source": []
  }
 ],
 "metadata": {
  "kernelspec": {
   "display_name": ".venv",
   "language": "python",
   "name": "python3"
  },
  "language_info": {
   "codemirror_mode": {
    "name": "ipython",
    "version": 3
   },
   "file_extension": ".py",
   "mimetype": "text/x-python",
   "name": "python",
   "nbconvert_exporter": "python",
   "pygments_lexer": "ipython3",
   "version": "3.11.6"
  }
 },
 "nbformat": 4,
 "nbformat_minor": 2
}
