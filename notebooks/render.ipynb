{
 "cells": [
  {
   "cell_type": "code",
   "execution_count": 1,
   "metadata": {},
   "outputs": [],
   "source": [
    "from selenium import webdriver\n",
    "from selenium.webdriver.chrome.service import Service\n",
    "from selenium.webdriver.common.by import By\n",
    "from selenium.webdriver.support.ui import WebDriverWait\n",
    "from selenium.webdriver.support import expected_conditions as EC\n",
    "from PIL import Image\n",
    "from io import BytesIO\n",
    "import time"
   ]
  },
  {
   "cell_type": "code",
   "execution_count": 2,
   "metadata": {},
   "outputs": [],
   "source": [
    "html_content = '''<blockquote class=\"twitter-tweet\"><p lang=\"ja\" dir=\"ltr\">VRC1136日目<br>①1ヶ月の終わり‼️<br>②懐かしのジャージで<br>③アフターも賑やかに<br>④お疲れ様の書き置きでじんわり<br><br>今回の復刻マッチョに参加して下さった皆さま、ありがとうございました<br>マッチョの魂はこうしてPublicに広がっていきました<br>次なる文化の先で、またお会いしましょう🖐️！<a href=\"https://twitter.com/hashtag/quest%E3%83%9E%E3%83%83%E3%83%81%E3%83%A7%E9%83%A8?src=hash&amp;ref_src=twsrc%5Etfw\">#questマッチョ部</a> <a href=\"https://t.co/LbIlICdt9x\">pic.twitter.com/LbIlICdt9x</a></p>&mdash; ばーゆ / VarYU (@Ring_Say_rip) <a href=\"https://twitter.com/Ring_Say_rip/status/1722976615955636227?ref_src=twsrc%5Etfw\">November 10, 2023</a></blockquote> <script async src=\"https://platform.twitter.com/widgets.js\" charset=\"utf-8\"></script>'''"
   ]
  },
  {
   "cell_type": "code",
   "execution_count": 3,
   "metadata": {},
   "outputs": [],
   "source": [
    "# Chromedriverのパス\n",
    "chromedriver_path = 'C:/Users/varyu/Desktop/development/twitter/.venv/Lib/site-packages/chromedriver_binary/chromedriver.exe'"
   ]
  },
  {
   "cell_type": "code",
   "execution_count": 5,
   "metadata": {},
   "outputs": [],
   "source": [
    "# WebDriverのServiceオブジェクトを作成\n",
    "service = Service(chromedriver_path)\n",
    "\n",
    "# WebDriver設定\n",
    "options = webdriver.ChromeOptions()\n",
    "options.add_argument(\"--headless\")  # ヘッドレスモードでブラウザを起動\n",
    "options.add_argument(\"window-size=1200x600\") # ビューポートサイズを調整\n",
    "\n",
    "driver = webdriver.Chrome(service=service, options=options)"
   ]
  },
  {
   "cell_type": "code",
   "execution_count": 6,
   "metadata": {},
   "outputs": [],
   "source": [
    "# HTMLをレンダリング\n",
    "driver.get(\"data:text/html;charset=utf-8,\" + html_content)\n",
    "\n",
    "# Twitterウィジェットがロードされるまで待つ\n",
    "wait = WebDriverWait(driver, 20)\n",
    "wait.until(EC.presence_of_element_located((By.CSS_SELECTOR, \".twitter-tweet\")))\n",
    "\n",
    "# スクリーンショット取得\n",
    "screenshot = driver.get_screenshot_as_png()\n",
    "driver.quit()"
   ]
  },
  {
   "cell_type": "code",
   "execution_count": 7,
   "metadata": {},
   "outputs": [],
   "source": [
    "# 画像保存\n",
    "image = Image.open(BytesIO(screenshot))\n",
    "image.save(\"tweet_screenshot.png\")"
   ]
  },
  {
   "cell_type": "code",
   "execution_count": null,
   "metadata": {},
   "outputs": [],
   "source": []
  }
 ],
 "metadata": {
  "kernelspec": {
   "display_name": ".venv",
   "language": "python",
   "name": "python3"
  },
  "language_info": {
   "codemirror_mode": {
    "name": "ipython",
    "version": 3
   },
   "file_extension": ".py",
   "mimetype": "text/x-python",
   "name": "python",
   "nbconvert_exporter": "python",
   "pygments_lexer": "ipython3",
   "version": "3.11.4"
  }
 },
 "nbformat": 4,
 "nbformat_minor": 2
}
