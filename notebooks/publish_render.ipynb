{
 "cells": [
  {
   "cell_type": "code",
   "execution_count": 1,
   "metadata": {},
   "outputs": [],
   "source": [
    "from selenium import webdriver\n",
    "from selenium.webdriver.chrome.service import Service\n",
    "from PIL import Image\n",
    "import time\n",
    "import urllib.parse\n",
    "import chromedriver_binary_sync"
   ]
  },
  {
   "cell_type": "code",
   "execution_count": 2,
   "metadata": {},
   "outputs": [],
   "source": [
    "def convert_to_publish_url(tweet_url):\n",
    "    base_url = \"https://publish.twitter.com/?\"\n",
    "    params = {\n",
    "        'query': tweet_url,\n",
    "        'widget': 'Tweet'\n",
    "    }\n",
    "    return base_url + urllib.parse.urlencode(params)"
   ]
  },
  {
   "cell_type": "code",
   "execution_count": 3,
   "metadata": {},
   "outputs": [],
   "source": [
    "# ツイートのURL\n",
    "tweet_urls = [\n",
    "    \"https://twitter.com/H5T42/status/1723180167861047528\"\n",
    "]"
   ]
  },
  {
   "cell_type": "code",
   "execution_count": 4,
   "metadata": {},
   "outputs": [],
   "source": [
    "# Twitter PublishのURL\n",
    "for url in tweet_urls:\n",
    "    render_url = convert_to_publish_url(url)"
   ]
  },
  {
   "cell_type": "code",
   "execution_count": 53,
   "metadata": {},
   "outputs": [],
   "source": [
    "# # Chromedriverのパス\n",
    "# chromedriver_path = 'C:/Users/varyu/Desktop/development/twitter/.venv/Lib/site-packages/chromedriver_binary/chromedriver.exe'"
   ]
  },
  {
   "cell_type": "code",
   "execution_count": 54,
   "metadata": {},
   "outputs": [],
   "source": [
    "# from get_chrome_driver import GetChromeDriver\n",
    "# get_driver = GetChromeDriver()\n",
    "# chromedriver_path = get_driver.install()\n",
    "# chromedriver_path = chromedriver_path + str(\"/chromedriver.exe\")"
   ]
  },
  {
   "cell_type": "code",
   "execution_count": 10,
   "metadata": {},
   "outputs": [
    {
     "data": {
      "text/plain": [
       "'c:\\\\Users\\\\varyu\\\\Desktop\\\\development\\\\twitter\\\\.venv\\\\Lib\\\\site-packages\\\\chromedriver_binary\\\\chromedriver.exe'"
      ]
     },
     "execution_count": 10,
     "metadata": {},
     "output_type": "execute_result"
    }
   ],
   "source": [
    "chromedriver_binary_sync.download(download_dir='./chromedriver/')"
   ]
  },
  {
   "cell_type": "code",
   "execution_count": 11,
   "metadata": {},
   "outputs": [],
   "source": [
    "chromedriver_path = \"./chromedriver/chromedriver.exe\""
   ]
  },
  {
   "cell_type": "code",
   "execution_count": 12,
   "metadata": {},
   "outputs": [],
   "source": [
    "# WebDriverのServiceオブジェクトを作成\n",
    "service = Service(chromedriver_path)\n",
    "\n",
    "# WebDriver設定（ヘッドレスモードでブラウザを起動）\n",
    "options = webdriver.ChromeOptions()\n",
    "options.add_argument(\"--headless\")\n",
    "\n",
    "driver = webdriver.Chrome(service=service, options=options)\n",
    "\n",
    "# ページを開く\n",
    "driver.get(render_url)\n",
    "\n",
    "# ウィンドウサイズ設定\n",
    "driver.set_window_size(400, 650)\n",
    "\n",
    "# ページの読み込みを待つ（5秒）\n",
    "time.sleep(5)\n",
    "\n",
    "# スクロールする高さを設定（例: 2000ピクセル）\n",
    "scroll_height = 1370\n",
    "driver.execute_script(f\"window.scrollTo(0, {scroll_height});\")\n",
    "\n",
    "# スクリーンショットを撮る\n",
    "driver.get_screenshot_as_file(\"screenshot.png\")\n",
    "\n",
    "driver.quit()"
   ]
  },
  {
   "cell_type": "code",
   "execution_count": 56,
   "metadata": {},
   "outputs": [],
   "source": [
    "# 画像を開く\n",
    "img = Image.open(\"screenshot.png\")\n",
    "\n",
    "# 画像のサイズ取得\n",
    "width, height = img.size\n",
    "\n",
    "# 左右30ピクセルをカット\n",
    "left = 10\n",
    "top = 0\n",
    "right = width - 40\n",
    "bottom = height\n",
    "cropped_img = img.crop((left, top, right, bottom))\n",
    "\n",
    "# 加工後の画像を保存\n",
    "cropped_img.save(\"cropped_screenshot.png\")"
   ]
  },
  {
   "cell_type": "code",
   "execution_count": null,
   "metadata": {},
   "outputs": [],
   "source": []
  }
 ],
 "metadata": {
  "kernelspec": {
   "display_name": ".venv",
   "language": "python",
   "name": "python3"
  },
  "language_info": {
   "codemirror_mode": {
    "name": "ipython",
    "version": 3
   },
   "file_extension": ".py",
   "mimetype": "text/x-python",
   "name": "python",
   "nbconvert_exporter": "python",
   "pygments_lexer": "ipython3",
   "version": "3.11.4"
  }
 },
 "nbformat": 4,
 "nbformat_minor": 2
}
