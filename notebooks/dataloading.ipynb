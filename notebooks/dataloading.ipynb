{
 "cells": [
  {
   "cell_type": "code",
   "execution_count": 4,
   "metadata": {},
   "outputs": [],
   "source": [
    "import sys\n",
    "import csv\n",
    "\n",
    "sys.path.append(\"C:/Users/varyu/Desktop/development/VRCTwitter\")\n",
    "from src.twitter.scripts.dataloader import count_csv_rows, random_line_numbers"
   ]
  },
  {
   "cell_type": "code",
   "execution_count": 5,
   "metadata": {},
   "outputs": [],
   "source": [
    "file_path = \"../src/VRCTwitterImageLoader/data/urls_orig_date.csv\"\n",
    "row_count = count_csv_rows(file_path)\n",
    "image_num = 10  # 画像取得数\n",
    "max_attempts = 100  # 最大試行回数\n",
    "attempts = 0"
   ]
  },
  {
   "cell_type": "code",
   "execution_count": 6,
   "metadata": {},
   "outputs": [
    {
     "data": {
      "text/plain": [
       "200"
      ]
     },
     "execution_count": 6,
     "metadata": {},
     "output_type": "execute_result"
    }
   ],
   "source": [
    "row_count"
   ]
  },
  {
   "cell_type": "code",
   "execution_count": 9,
   "metadata": {},
   "outputs": [],
   "source": [
    "selected_lines = random_line_numbers(row_count, image_num)"
   ]
  },
  {
   "cell_type": "code",
   "execution_count": 10,
   "metadata": {},
   "outputs": [
    {
     "data": {
      "text/plain": [
       "[53, 12, 56, 38, 0, 194, 51, 43, 104, 18]"
      ]
     },
     "execution_count": 10,
     "metadata": {},
     "output_type": "execute_result"
    }
   ],
   "source": [
    "selected_lines"
   ]
  },
  {
   "cell_type": "code",
   "execution_count": 11,
   "metadata": {},
   "outputs": [],
   "source": [
    "# ユニークなURLの種類の数が規定数になるまで繰り返す\n",
    "unique_urls = set()\n",
    "while len(unique_urls) < image_num and attempts < max_attempts:\n",
    "    attempts += 1\n",
    "    selected_lines = random_line_numbers(row_count, image_num)\n",
    "    selected_urls = []\n",
    "\n",
    "    with open(file_path, \"r\", newline=\"\", encoding=\"utf-8\") as file:\n",
    "        reader = csv.reader(file)\n",
    "        for line_number, row in enumerate(reader):\n",
    "            if line_number in selected_lines and len(row) > 0:\n",
    "                selected_urls.append(row[0])\n",
    "                unique_urls.add(row[0])"
   ]
  },
  {
   "cell_type": "code",
   "execution_count": 12,
   "metadata": {},
   "outputs": [
    {
     "data": {
      "text/plain": [
       "['https://twitter.com/H5T42/status/1730781562210554311',\n",
       " 'https://twitter.com/H5T42/status/1719966084605116439',\n",
       " 'https://twitter.com/H5T42/status/1717717337934344312',\n",
       " 'https://twitter.com/H5T42/status/1703700455224947111',\n",
       " 'https://twitter.com/H5T42/status/1699257625291210869',\n",
       " 'https://twitter.com/H5T42/status/1672906457204023298',\n",
       " 'https://twitter.com/H5T42/status/1667517614497882112',\n",
       " 'https://twitter.com/H5T42/status/1602290685008236545',\n",
       " 'https://twitter.com/H5T42/status/1543882316535042049',\n",
       " 'https://twitter.com/H5T42/status/1534810889731207168']"
      ]
     },
     "execution_count": 12,
     "metadata": {},
     "output_type": "execute_result"
    }
   ],
   "source": [
    "selected_urls"
   ]
  },
  {
   "cell_type": "code",
   "execution_count": null,
   "metadata": {},
   "outputs": [],
   "source": []
  }
 ],
 "metadata": {
  "kernelspec": {
   "display_name": ".venv",
   "language": "python",
   "name": "python3"
  },
  "language_info": {
   "codemirror_mode": {
    "name": "ipython",
    "version": 3
   },
   "file_extension": ".py",
   "mimetype": "text/x-python",
   "name": "python",
   "nbconvert_exporter": "python",
   "pygments_lexer": "ipython3",
   "version": "3.11.6"
  }
 },
 "nbformat": 4,
 "nbformat_minor": 2
}
