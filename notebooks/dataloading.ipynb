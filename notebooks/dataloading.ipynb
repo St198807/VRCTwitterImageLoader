{
 "cells": [
  {
   "cell_type": "code",
   "execution_count": 1,
   "metadata": {},
   "outputs": [],
   "source": [
    "import sys\n",
    "import csv\n",
    "\n",
    "sys.path.append('C:/Users/varyu/Desktop/development/twitter')\n",
    "from src.twitter.scripts.dataloader import count_csv_rows, random_line_numbers\n"
   ]
  },
  {
   "cell_type": "code",
   "execution_count": 2,
   "metadata": {},
   "outputs": [],
   "source": [
    "file_path = \"../src/twitter/data/urls_orig_date.csv\"\n",
    "row_count = count_csv_rows(file_path)\n",
    "image_num = 10 # 画像取得数\n",
    "max_attempts = 100  # 最大試行回数\n",
    "attempts = 0"
   ]
  },
  {
   "cell_type": "code",
   "execution_count": 3,
   "metadata": {},
   "outputs": [
    {
     "data": {
      "text/plain": [
       "49"
      ]
     },
     "execution_count": 3,
     "metadata": {},
     "output_type": "execute_result"
    }
   ],
   "source": [
    "row_count"
   ]
  },
  {
   "cell_type": "code",
   "execution_count": 4,
   "metadata": {},
   "outputs": [],
   "source": [
    "# ユニークなURLの種類の数が規定数になるまで繰り返す\n",
    "unique_urls = set()\n",
    "while len(unique_urls) < image_num and attempts < max_attempts:\n",
    "    attempts += 1\n",
    "    selected_lines = random_line_numbers(row_count, image_num)\n",
    "    selected_urls = []\n",
    "\n",
    "    with open(file_path, \"r\", newline=\"\", encoding=\"utf-8\") as file:\n",
    "        reader = csv.reader(file)\n",
    "        for line_number, row in enumerate(reader):\n",
    "            if line_number in selected_lines and len(row) > 0:\n",
    "                selected_urls.append(row[0])\n",
    "                unique_urls.add(row[0])"
   ]
  },
  {
   "cell_type": "code",
   "execution_count": 5,
   "metadata": {},
   "outputs": [
    {
     "data": {
      "text/plain": [
       "['https://twitter.com/H5T42/status/1723180167861047528',\n",
       " 'https://twitter.com/H5T42/status/1712369029908963359',\n",
       " 'https://twitter.com/H5T42/status/1704747955771809970',\n",
       " 'https://twitter.com/H5T42/status/1703700455224947111',\n",
       " 'https://twitter.com/H5T42/status/1700348345934635060',\n",
       " 'https://twitter.com/H5T42/status/1697066698258649521',\n",
       " 'https://twitter.com/H5T42/status/1693827964100854246',\n",
       " 'https://twitter.com/H5T42/status/1688199286901911552',\n",
       " 'https://twitter.com/H5T42/status/1685909880102850560',\n",
       " 'https://twitter.com/H5T42/status/1683766139237842945']"
      ]
     },
     "execution_count": 5,
     "metadata": {},
     "output_type": "execute_result"
    }
   ],
   "source": [
    "selected_urls"
   ]
  },
  {
   "cell_type": "code",
   "execution_count": null,
   "metadata": {},
   "outputs": [],
   "source": []
  }
 ],
 "metadata": {
  "kernelspec": {
   "display_name": ".venv",
   "language": "python",
   "name": "python3"
  },
  "language_info": {
   "codemirror_mode": {
    "name": "ipython",
    "version": 3
   },
   "file_extension": ".py",
   "mimetype": "text/x-python",
   "name": "python",
   "nbconvert_exporter": "python",
   "pygments_lexer": "ipython3",
   "version": "3.11.6"
  }
 },
 "nbformat": 4,
 "nbformat_minor": 2
}
