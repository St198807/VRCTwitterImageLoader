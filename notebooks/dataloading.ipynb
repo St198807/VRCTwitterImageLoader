{
 "cells": [
  {
   "cell_type": "code",
   "execution_count": 5,
   "metadata": {},
   "outputs": [],
   "source": [
    "import sys\n",
    "import csv\n",
    "\n",
    "sys.path.append('C:/Users/varyu/Desktop/development/twitter')\n",
    "from src.twitter.scripts.dataloader import count_csv_rows, random_line_numbers\n"
   ]
  },
  {
   "cell_type": "code",
   "execution_count": 6,
   "metadata": {},
   "outputs": [],
   "source": [
    "file_path = \"../src/twitter/data/urls_orig.csv\"\n",
    "row_count = count_csv_rows(file_path)"
   ]
  },
  {
   "cell_type": "code",
   "execution_count": 11,
   "metadata": {},
   "outputs": [
    {
     "data": {
      "text/plain": [
       "6"
      ]
     },
     "execution_count": 11,
     "metadata": {},
     "output_type": "execute_result"
    }
   ],
   "source": [
    "row_count"
   ]
  },
  {
   "cell_type": "code",
   "execution_count": 9,
   "metadata": {},
   "outputs": [],
   "source": [
    "selected_lines = random_line_numbers(row_count, 3)\n",
    "\n",
    "selected_urls = []\n",
    "with open(file_path, 'r', newline='', encoding='utf-8') as file:\n",
    "    reader = csv.reader(file)\n",
    "    for line_number, row in enumerate(reader):\n",
    "        if line_number in selected_lines:\n",
    "            selected_urls.append(row[0])"
   ]
  },
  {
   "cell_type": "code",
   "execution_count": 10,
   "metadata": {},
   "outputs": [
    {
     "data": {
      "text/plain": [
       "['https://twitter.com/H5T42/status/1727588367523537205',\n",
       " 'https://twitter.com/H5T42/status/1725426115513389119',\n",
       " 'https://twitter.com/H5T42/status/1723180167861047528']"
      ]
     },
     "execution_count": 10,
     "metadata": {},
     "output_type": "execute_result"
    }
   ],
   "source": [
    "selected_urls"
   ]
  },
  {
   "cell_type": "code",
   "execution_count": null,
   "metadata": {},
   "outputs": [],
   "source": []
  }
 ],
 "metadata": {
  "kernelspec": {
   "display_name": ".venv",
   "language": "python",
   "name": "python3"
  },
  "language_info": {
   "codemirror_mode": {
    "name": "ipython",
    "version": 3
   },
   "file_extension": ".py",
   "mimetype": "text/x-python",
   "name": "python",
   "nbconvert_exporter": "python",
   "pygments_lexer": "ipython3",
   "version": "3.9.13"
  }
 },
 "nbformat": 4,
 "nbformat_minor": 2
}
