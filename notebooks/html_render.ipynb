{
 "cells": [
  {
   "cell_type": "code",
   "execution_count": 57,
   "metadata": {},
   "outputs": [],
   "source": [
    "import time\n",
    "import os\n",
    "import urllib.request, json\n",
    "from IPython.display import HTML\n",
    "from selenium import webdriver\n",
    "from selenium.webdriver.chrome.options import Options\n",
    "from selenium.webdriver.chrome.service import Service\n",
    "from PIL import Image\n",
    "from io import BytesIO"
   ]
  },
  {
   "cell_type": "code",
   "execution_count": 58,
   "metadata": {},
   "outputs": [],
   "source": [
    "def get_tweet_embedcode(tweet_url):\n",
    "    try:\n",
    "        with urllib.request.urlopen(f\"https://publish.twitter.com/oembed?url={tweet_url}\") as url:\n",
    "            data = json.loads(url.read().decode())\n",
    "            # html = data[\"html\"]\n",
    "            return data[\"html\"]\n",
    "    except BaseException:\n",
    "        return \"\""
   ]
  },
  {
   "cell_type": "code",
   "execution_count": 59,
   "metadata": {},
   "outputs": [
    {
     "data": {
      "text/html": [
       "<blockquote class=\"twitter-tweet\"><p lang=\"ja\" dir=\"ltr\">🌮<br><br>『The Taco Room』<br><br>深夜、廃棄された店舗へ物資確保に来てみたら店の様子がおかしい。しかし、仕事である以上やることはやらねばと奥へ向かうと...<br><br>⚠️ホラワですが比較的ゆるい感じ。所要時間も15-25分程度。お約束的な演出が多めで、ジャンプスケア有。ホラワ初心者に！<a href=\"https://twitter.com/hashtag/Quest%E6%95%A3%E6%AD%A9?src=hash&amp;ref_src=twsrc%5Etfw\">#Quest散歩</a> <a href=\"https://twitter.com/hashtag/VRChat?src=hash&amp;ref_src=twsrc%5Etfw\">#VRChat</a> <a href=\"https://t.co/KuOoODdhxZ\">pic.twitter.com/KuOoODdhxZ</a></p>&mdash; H5-T4／ティー (@H5T42) <a href=\"https://twitter.com/H5T42/status/1724302940083810359?ref_src=twsrc%5Etfw\">November 14, 2023</a></blockquote>\n",
       "<script async src=\"https://platform.twitter.com/widgets.js\" charset=\"utf-8\"></script>\n",
       "\n"
      ],
      "text/plain": [
       "<IPython.core.display.HTML object>"
      ]
     },
     "execution_count": 59,
     "metadata": {},
     "output_type": "execute_result"
    }
   ],
   "source": [
    "HTML(get_tweet_embedcode(\"https://twitter.com/H5T42/status/1724302940083810359\"))"
   ]
  },
  {
   "cell_type": "code",
   "execution_count": 55,
   "metadata": {},
   "outputs": [],
   "source": [
    "def save_html_as_png(converted_urls, chromedriver_path, file_name=\"tweet.html\"):\n",
    "\n",
    "    for index, render_url in enumerate(converted_urls):\n",
    "        html_content = get_tweet_embedcode(render_url)\n",
    "\n",
    "        with open(file_name, 'w', encoding='utf-8') as file:\n",
    "            file.write(html_content)\n",
    "\n",
    "        # WebDriverのServiceオブジェクトを作成\n",
    "        service = Service(chromedriver_path)\n",
    "\n",
    "        # WebDriver設定（ヘッドレスモードでブラウザを起動）\n",
    "        options = webdriver.ChromeOptions()\n",
    "        # options.add_argument(\"--headless\")\n",
    "\n",
    "        driver = webdriver.Chrome(service=service, options=options)\n",
    "        \n",
    "        # Open the local HTML file\n",
    "        local_url = \"file://\" + os.path.abspath(file_name)\n",
    "        driver.get(local_url)\n",
    "\n",
    "        # ウィンドウサイズ設定\n",
    "        driver.set_window_size(400, 1600)\n",
    "\n",
    "        # Give some time for the tweet to load completely\n",
    "        time.sleep(20)\n",
    "\n",
    "        # # Take a screenshot and save it as a PNG image\n",
    "        # driver.save_screenshot(output_path)\n",
    "\n",
    "        # スクリーンショットをPNG形式のバイナリデータとして取得\n",
    "        screenshot_png = driver.get_screenshot_as_png()\n",
    "\n",
    "        # バイナリデータからPIL.Imageオブジェクトを生成\n",
    "        img = Image.open(BytesIO(screenshot_png))\n",
    "\n",
    "        # 画像のサイズ取得\n",
    "        width, height = img.size\n",
    "\n",
    "        # 下のピクセルをカット\n",
    "        left = 0\n",
    "        top = 0\n",
    "        right = width\n",
    "        bottom = height - 1120\n",
    "        cropped_img = img.crop((left, top, right, bottom))\n",
    "\n",
    "        # 加工後の画像を保存\n",
    "        # cropped_img.save(f\"src/twitter/pages/images/cropped_screenshot_{index}.png\")\n",
    "        cropped_img.save(f\"images/cropped_screenshot_{index}.png\")\n",
    "\n",
    "        # Close the browser\n",
    "        driver.quit()\n",
    "\n",
    "    return"
   ]
  },
  {
   "cell_type": "code",
   "execution_count": 52,
   "metadata": {},
   "outputs": [],
   "source": [
    "converted_urls = [\"https://twitter.com/H5T42/status/1724302940083810359\",\n",
    "                  \"https://twitter.com/H5T42/status/1730781562210554311\"]"
   ]
  },
  {
   "cell_type": "code",
   "execution_count": 53,
   "metadata": {},
   "outputs": [],
   "source": [
    "# tweet_html = get_tweet_embedcode(\"https://twitter.com/H5T42/status/1724302940083810359\")\n",
    "chromedriver_path = \"./chromedriver/chromedriver.exe\"\n",
    "# output_path=\"image/tweet.png\""
   ]
  },
  {
   "cell_type": "code",
   "execution_count": null,
   "metadata": {},
   "outputs": [],
   "source": [
    "tweet_html = get_tweet_embedcode(\"https://twitter.com/H5T42/status/1730781562210554311\")"
   ]
  },
  {
   "cell_type": "code",
   "execution_count": 56,
   "metadata": {},
   "outputs": [],
   "source": [
    "save_html_as_png(converted_urls=converted_urls,chromedriver_path=chromedriver_path)"
   ]
  },
  {
   "cell_type": "code",
   "execution_count": null,
   "metadata": {},
   "outputs": [],
   "source": []
  }
 ],
 "metadata": {
  "kernelspec": {
   "display_name": ".venv",
   "language": "python",
   "name": "python3"
  },
  "language_info": {
   "codemirror_mode": {
    "name": "ipython",
    "version": 3
   },
   "file_extension": ".py",
   "mimetype": "text/x-python",
   "name": "python",
   "nbconvert_exporter": "python",
   "pygments_lexer": "ipython3",
   "version": "3.11.6"
  }
 },
 "nbformat": 4,
 "nbformat_minor": 2
}
